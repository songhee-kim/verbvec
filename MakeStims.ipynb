{
 "cells": [
  {
   "cell_type": "code",
   "execution_count": null,
   "metadata": {},
   "outputs": [],
   "source": [
    "import pandas as pd\n",
    "import csv"
   ]
  },
  {
   "cell_type": "code",
   "execution_count": null,
   "metadata": {},
   "outputs": [],
   "source": [
    "raw = pd.read_excel('~/Google Drive/Primary/jsp/jspsych-crea/v_query_sample.xlsx').to_dict(orient='index')"
   ]
  },
  {
   "cell_type": "code",
   "execution_count": null,
   "metadata": {},
   "outputs": [],
   "source": [
    "#raw"
   ]
  },
  {
   "cell_type": "code",
   "execution_count": null,
   "metadata": {},
   "outputs": [],
   "source": [
    "len(raw)"
   ]
  },
  {
   "cell_type": "code",
   "execution_count": null,
   "metadata": {},
   "outputs": [],
   "source": [
    "trial_info = []\n",
    "for k, v in raw.items():\n",
    "    try: \n",
    "        dic = {}\n",
    "        word = \"<h><b> break </b></h><br>\"\n",
    "        #sent = \"<h>As in: <i>The boy works very hard</i></h><br>\"\n",
    "        qs = \"<p><b>To what degree do you think this event as \" + v['Relation'] + \" \" + v['Query'] + \"?\" + \"</b></p>\"\n",
    "        e1 = \"<p> For comparison, \" + \"<b>\" + v['High'] + \"</b>\" + \" would receive a high rating on this question, because \" + v['HighExp'] + \"<br><br>\"\n",
    "        e2 = \"In contrast, \" + \"<b>\" + v['Med'] + \"</b>\"+ \" might receive a medium rating, because \" + v['MediumExp'] + \"</p><br>\"\n",
    "        prmt = \"<p>Your rating for <b>work</b>:</p>\"\n",
    "        dic['question'] = word + qs + e1 + e2 + prmt\n",
    "        dic['verb'] = 'work'\n",
    "        dic['attribute'] = v['Name']\n",
    "        trial_info.append(dic)\n",
    "    except: \n",
    "        print (k, \"An exception occured\")"
   ]
  },
  {
   "cell_type": "code",
   "execution_count": null,
   "metadata": {},
   "outputs": [],
   "source": [
    "trial_info"
   ]
  },
  {
   "cell_type": "code",
   "execution_count": null,
   "metadata": {},
   "outputs": [],
   "source": [
    "with open('questionlist.txt', 'w') as f:\n",
    "    for item in trial_info:\n",
    "        f.write(\"%s,\\n\" % item)"
   ]
  },
  {
   "cell_type": "code",
   "execution_count": null,
   "metadata": {},
   "outputs": [],
   "source": [
    "# import json\n",
    "# out = open('questionlist', 'w', encoding='utf-8')\n",
    "# for dic in trial_info:\n",
    "#     json.dump(dic, out)\n",
    "#     out.write(\"\\n\")"
   ]
  },
  {
   "cell_type": "code",
   "execution_count": null,
   "metadata": {},
   "outputs": [],
   "source": []
  }
 ],
 "metadata": {
  "kernelspec": {
   "display_name": "Python 3",
   "language": "python",
   "name": "python3"
  },
  "language_info": {
   "codemirror_mode": {
    "name": "ipython",
    "version": 3
   },
   "file_extension": ".py",
   "mimetype": "text/x-python",
   "name": "python",
   "nbconvert_exporter": "python",
   "pygments_lexer": "ipython3",
   "version": "3.7.6"
  }
 },
 "nbformat": 4,
 "nbformat_minor": 2
}
