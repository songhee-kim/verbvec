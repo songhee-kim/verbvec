{
 "cells": [
  {
   "cell_type": "code",
   "execution_count": 1,
   "metadata": {},
   "outputs": [],
   "source": [
    "import pandas as pd"
   ]
  },
  {
   "cell_type": "code",
   "execution_count": 2,
   "metadata": {},
   "outputs": [
    {
     "data": {
      "text/plain": [
       "'/Users/songkim/Desktop'"
      ]
     },
     "execution_count": 2,
     "metadata": {},
     "output_type": "execute_result"
    }
   ],
   "source": [
    "pwd"
   ]
  },
  {
   "cell_type": "code",
   "execution_count": 3,
   "metadata": {},
   "outputs": [
    {
     "name": "stdout",
     "output_type": "stream",
     "text": [
      "/Users/songkim/Google Drive/Primary/Projects/VerbVector\n"
     ]
    }
   ],
   "source": [
    "cd /Users/songkim/Google\\ Drive/Primary/Projects/VerbVector"
   ]
  },
  {
   "cell_type": "code",
   "execution_count": 11,
   "metadata": {},
   "outputs": [
    {
     "data": {
      "text/plain": [
       "(759, 50)"
      ]
     },
     "execution_count": 11,
     "metadata": {},
     "output_type": "execute_result"
    }
   ],
   "source": [
    "raw = pd.read_csv('/Users/songkim/Google Drive/Primary/Projects/VerbVector/CREA/CREA_stimuli.csv')\n",
    "raw.shape"
   ]
  },
  {
   "cell_type": "code",
   "execution_count": 13,
   "metadata": {},
   "outputs": [
    {
     "data": {
      "text/plain": [
       "(62, 50)"
      ]
     },
     "execution_count": 13,
     "metadata": {},
     "output_type": "execute_result"
    }
   ],
   "source": [
    "sh = raw[raw['Type']=='verb']\n",
    "sh.shape\n",
    "#sh.head()"
   ]
  },
  {
   "cell_type": "code",
   "execution_count": 38,
   "metadata": {},
   "outputs": [],
   "source": [
    "sh_cut = sh.reindex(columns=['Word', 'Context 1', 'Context 2', 'Context 3', 'Context 4', 'Context 5', 'Context 6', 'Context 7'])"
   ]
  },
  {
   "cell_type": "code",
   "execution_count": 39,
   "metadata": {},
   "outputs": [
    {
     "data": {
      "text/html": [
       "<div>\n",
       "<style scoped>\n",
       "    .dataframe tbody tr th:only-of-type {\n",
       "        vertical-align: middle;\n",
       "    }\n",
       "\n",
       "    .dataframe tbody tr th {\n",
       "        vertical-align: top;\n",
       "    }\n",
       "\n",
       "    .dataframe thead th {\n",
       "        text-align: right;\n",
       "    }\n",
       "</style>\n",
       "<table border=\"1\" class=\"dataframe\">\n",
       "  <thead>\n",
       "    <tr style=\"text-align: right;\">\n",
       "      <th></th>\n",
       "      <th>Word</th>\n",
       "      <th>Context 1</th>\n",
       "      <th>Context 2</th>\n",
       "      <th>Context 3</th>\n",
       "      <th>Context 4</th>\n",
       "      <th>Context 5</th>\n",
       "      <th>Context 6</th>\n",
       "      <th>Context 7</th>\n",
       "    </tr>\n",
       "  </thead>\n",
       "  <tbody>\n",
       "    <tr>\n",
       "      <td>658</td>\n",
       "      <td>approached</td>\n",
       "      <td>The yellow dog approached the friendly teacher.</td>\n",
       "      <td>The priest approached the lonely family.</td>\n",
       "      <td>The mob approached the embassy.</td>\n",
       "      <td>The car approached the river.</td>\n",
       "      <td>NaN</td>\n",
       "      <td>NaN</td>\n",
       "      <td>NaN</td>\n",
       "    </tr>\n",
       "    <tr>\n",
       "      <td>659</td>\n",
       "      <td>arrested</td>\n",
       "      <td>The soldier arrested the injured activist.</td>\n",
       "      <td>The policeman arrested the angry driver.</td>\n",
       "      <td>NaN</td>\n",
       "      <td>NaN</td>\n",
       "      <td>NaN</td>\n",
       "      <td>NaN</td>\n",
       "      <td>NaN</td>\n",
       "    </tr>\n",
       "    <tr>\n",
       "      <td>660</td>\n",
       "      <td>ate</td>\n",
       "      <td>The old farmer ate at the expensive hotel.</td>\n",
       "      <td>The dog ate the egg.</td>\n",
       "      <td>The commander ate chicken at dinner.</td>\n",
       "      <td>The tourist ate bread on vacation.</td>\n",
       "      <td>The reporter ate at the new restaurant.</td>\n",
       "      <td>NaN</td>\n",
       "      <td>NaN</td>\n",
       "    </tr>\n",
       "    <tr>\n",
       "      <td>661</td>\n",
       "      <td>blocked</td>\n",
       "      <td>The bicycle blocked the green door.</td>\n",
       "      <td>The cloud blocked the sun.</td>\n",
       "      <td>NaN</td>\n",
       "      <td>NaN</td>\n",
       "      <td>NaN</td>\n",
       "      <td>NaN</td>\n",
       "      <td>NaN</td>\n",
       "    </tr>\n",
       "    <tr>\n",
       "      <td>662</td>\n",
       "      <td>bought</td>\n",
       "      <td>The doctor bought the used boat.</td>\n",
       "      <td>The banker bought the expensive boat.</td>\n",
       "      <td>The diplomat bought the aggressive dog.</td>\n",
       "      <td>The parent bought the magazine.</td>\n",
       "      <td>The woman bought medicine at the store.</td>\n",
       "      <td>NaN</td>\n",
       "      <td>NaN</td>\n",
       "    </tr>\n",
       "  </tbody>\n",
       "</table>\n",
       "</div>"
      ],
      "text/plain": [
       "           Word                                        Context 1  \\\n",
       "658  approached  The yellow dog approached the friendly teacher.   \n",
       "659    arrested       The soldier arrested the injured activist.   \n",
       "660         ate       The old farmer ate at the expensive hotel.   \n",
       "661     blocked              The bicycle blocked the green door.   \n",
       "662      bought                 The doctor bought the used boat.   \n",
       "\n",
       "                                    Context 2  \\\n",
       "658  The priest approached the lonely family.   \n",
       "659  The policeman arrested the angry driver.   \n",
       "660                      The dog ate the egg.   \n",
       "661                The cloud blocked the sun.   \n",
       "662     The banker bought the expensive boat.   \n",
       "\n",
       "                                   Context 3  \\\n",
       "658          The mob approached the embassy.   \n",
       "659                                      NaN   \n",
       "660     The commander ate chicken at dinner.   \n",
       "661                                      NaN   \n",
       "662  The diplomat bought the aggressive dog.   \n",
       "\n",
       "                              Context 4  \\\n",
       "658       The car approached the river.   \n",
       "659                                 NaN   \n",
       "660  The tourist ate bread on vacation.   \n",
       "661                                 NaN   \n",
       "662     The parent bought the magazine.   \n",
       "\n",
       "                                   Context 5 Context 6 Context 7  \n",
       "658                                      NaN       NaN       NaN  \n",
       "659                                      NaN       NaN       NaN  \n",
       "660  The reporter ate at the new restaurant.       NaN       NaN  \n",
       "661                                      NaN       NaN       NaN  \n",
       "662  The woman bought medicine at the store.       NaN       NaN  "
      ]
     },
     "execution_count": 39,
     "metadata": {},
     "output_type": "execute_result"
    }
   ],
   "source": [
    "sh_cut.head()"
   ]
  },
  {
   "cell_type": "code",
   "execution_count": 40,
   "metadata": {},
   "outputs": [],
   "source": [
    "sh_cut.to_csv('/Users/songkim/Google Drive/Primary/Projects/VerbVector/CREA_verb_context.csv')"
   ]
  },
  {
   "cell_type": "code",
   "execution_count": 41,
   "metadata": {},
   "outputs": [],
   "source": [
    "ratingraw = pd.read_csv('/users/songkim/Google Drive/Primary/Projects/VerbVector/crea_vratings_subtlex.csv')"
   ]
  },
  {
   "cell_type": "code",
   "execution_count": 42,
   "metadata": {},
   "outputs": [
    {
     "data": {
      "text/plain": [
       "(62, 285)"
      ]
     },
     "execution_count": 42,
     "metadata": {},
     "output_type": "execute_result"
    }
   ],
   "source": [
    "ratingraw.shape"
   ]
  },
  {
   "cell_type": "code",
   "execution_count": 43,
   "metadata": {},
   "outputs": [],
   "source": [
    "rating_col = ratingraw.columns.to_list()\n",
    "sh_cut_col = sh_cut.columns.to_list()"
   ]
  },
  {
   "cell_type": "code",
   "execution_count": 44,
   "metadata": {},
   "outputs": [
    {
     "data": {
      "text/plain": [
       "['Word']"
      ]
     },
     "execution_count": 44,
     "metadata": {},
     "output_type": "execute_result"
    }
   ],
   "source": [
    "[x for x in sh_cut_col if x in rating_col]"
   ]
  },
  {
   "cell_type": "code",
   "execution_count": 46,
   "metadata": {},
   "outputs": [],
   "source": [
    "crea_verb_rating_context = pd.merge(ratingraw, sh_cut, on='Word')"
   ]
  },
  {
   "cell_type": "code",
   "execution_count": 48,
   "metadata": {},
   "outputs": [],
   "source": [
    "crea_verb_rating_context.to_csv('/Users/songkim/Google Drive/Primary/Projects/VerbVector/CREA_vrating_context.csv')"
   ]
  },
  {
   "cell_type": "code",
   "execution_count": null,
   "metadata": {},
   "outputs": [],
   "source": []
  }
 ],
 "metadata": {
  "kernelspec": {
   "display_name": "Python 3",
   "language": "python",
   "name": "python3"
  },
  "language_info": {
   "codemirror_mode": {
    "name": "ipython",
    "version": 3
   },
   "file_extension": ".py",
   "mimetype": "text/x-python",
   "name": "python",
   "nbconvert_exporter": "python",
   "pygments_lexer": "ipython3",
   "version": "3.7.4"
  }
 },
 "nbformat": 4,
 "nbformat_minor": 2
}
